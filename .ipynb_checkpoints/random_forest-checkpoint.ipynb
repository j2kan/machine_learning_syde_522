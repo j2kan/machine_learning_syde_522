{
 "cells": [
  {
   "cell_type": "code",
   "execution_count": 75,
   "metadata": {},
   "outputs": [],
   "source": [
    "import pandas as pd\n",
    "import numpy as np\n",
    "from sklearn.model_selection import train_test_split\n",
    "from sklearn.ensemble import RandomForestRegressor"
   ]
  },
  {
   "cell_type": "markdown",
   "metadata": {},
   "source": [
    "### Test Accuracy of Random Forest"
   ]
  },
  {
   "cell_type": "code",
   "execution_count": 76,
   "metadata": {},
   "outputs": [
    {
     "data": {
      "text/html": [
       "<div>\n",
       "<style>\n",
       "    .dataframe thead tr:only-child th {\n",
       "        text-align: right;\n",
       "    }\n",
       "\n",
       "    .dataframe thead th {\n",
       "        text-align: left;\n",
       "    }\n",
       "\n",
       "    .dataframe tbody tr th {\n",
       "        vertical-align: top;\n",
       "    }\n",
       "</style>\n",
       "<table border=\"1\" class=\"dataframe\">\n",
       "  <thead>\n",
       "    <tr style=\"text-align: right;\">\n",
       "      <th></th>\n",
       "      <th>LotFrontage</th>\n",
       "      <th>LotArea</th>\n",
       "      <th>LotShape</th>\n",
       "      <th>MasVnrType</th>\n",
       "      <th>MasVnrArea</th>\n",
       "      <th>BsmtExposure</th>\n",
       "      <th>BsmtFinSF1</th>\n",
       "      <th>BsmtUnfSF</th>\n",
       "      <th>HeatingQC</th>\n",
       "      <th>CentralAir</th>\n",
       "      <th>...</th>\n",
       "      <th>GarageTypeAttchd</th>\n",
       "      <th>GarageTypeBasment</th>\n",
       "      <th>GarageTypeBuiltIn</th>\n",
       "      <th>GarageTypeDetchd</th>\n",
       "      <th>GarageTypeNo Garage</th>\n",
       "      <th>FenceGdWo</th>\n",
       "      <th>FenceMnPrv</th>\n",
       "      <th>FenceNone</th>\n",
       "      <th>SaleTypeNew</th>\n",
       "      <th>SaleTypeWD</th>\n",
       "    </tr>\n",
       "  </thead>\n",
       "  <tbody>\n",
       "    <tr>\n",
       "      <th>count</th>\n",
       "      <td>1460.000000</td>\n",
       "      <td>1460.000000</td>\n",
       "      <td>1460.000000</td>\n",
       "      <td>1460.000000</td>\n",
       "      <td>1460.000000</td>\n",
       "      <td>1460.000000</td>\n",
       "      <td>1460.000000</td>\n",
       "      <td>1460.000000</td>\n",
       "      <td>1460.000000</td>\n",
       "      <td>1460.000000</td>\n",
       "      <td>...</td>\n",
       "      <td>1460.000000</td>\n",
       "      <td>1460.000000</td>\n",
       "      <td>1460.000000</td>\n",
       "      <td>1460.000000</td>\n",
       "      <td>1460.000000</td>\n",
       "      <td>1460.000000</td>\n",
       "      <td>1460.000000</td>\n",
       "      <td>1460.000000</td>\n",
       "      <td>1460.000000</td>\n",
       "      <td>1460.000000</td>\n",
       "    </tr>\n",
       "    <tr>\n",
       "      <th>mean</th>\n",
       "      <td>0.028048</td>\n",
       "      <td>0.044214</td>\n",
       "      <td>-0.014175</td>\n",
       "      <td>0.012433</td>\n",
       "      <td>0.009623</td>\n",
       "      <td>0.005246</td>\n",
       "      <td>0.005197</td>\n",
       "      <td>0.015151</td>\n",
       "      <td>-0.006847</td>\n",
       "      <td>0.008301</td>\n",
       "      <td>...</td>\n",
       "      <td>0.060274</td>\n",
       "      <td>0.265068</td>\n",
       "      <td>0.055479</td>\n",
       "      <td>0.036986</td>\n",
       "      <td>0.107534</td>\n",
       "      <td>0.807534</td>\n",
       "      <td>0.083562</td>\n",
       "      <td>0.867808</td>\n",
       "      <td>0.013699</td>\n",
       "      <td>0.820548</td>\n",
       "    </tr>\n",
       "    <tr>\n",
       "      <th>std</th>\n",
       "      <td>1.033777</td>\n",
       "      <td>1.265534</td>\n",
       "      <td>1.021259</td>\n",
       "      <td>1.006253</td>\n",
       "      <td>1.010493</td>\n",
       "      <td>0.997901</td>\n",
       "      <td>1.001080</td>\n",
       "      <td>1.005178</td>\n",
       "      <td>1.001617</td>\n",
       "      <td>0.985671</td>\n",
       "      <td>...</td>\n",
       "      <td>0.238075</td>\n",
       "      <td>0.441521</td>\n",
       "      <td>0.228992</td>\n",
       "      <td>0.188793</td>\n",
       "      <td>0.309897</td>\n",
       "      <td>0.394372</td>\n",
       "      <td>0.276824</td>\n",
       "      <td>0.338815</td>\n",
       "      <td>0.116277</td>\n",
       "      <td>0.383862</td>\n",
       "    </tr>\n",
       "    <tr>\n",
       "      <th>min</th>\n",
       "      <td>-2.255775</td>\n",
       "      <td>-1.124397</td>\n",
       "      <td>-4.559764</td>\n",
       "      <td>-0.728460</td>\n",
       "      <td>-0.566919</td>\n",
       "      <td>-1.521203</td>\n",
       "      <td>-0.968539</td>\n",
       "      <td>-1.275231</td>\n",
       "      <td>-3.290106</td>\n",
       "      <td>-3.726674</td>\n",
       "      <td>...</td>\n",
       "      <td>0.000000</td>\n",
       "      <td>0.000000</td>\n",
       "      <td>0.000000</td>\n",
       "      <td>0.000000</td>\n",
       "      <td>0.000000</td>\n",
       "      <td>0.000000</td>\n",
       "      <td>0.000000</td>\n",
       "      <td>0.000000</td>\n",
       "      <td>0.000000</td>\n",
       "      <td>0.000000</td>\n",
       "    </tr>\n",
       "    <tr>\n",
       "      <th>25%</th>\n",
       "      <td>-0.426327</td>\n",
       "      <td>-0.331509</td>\n",
       "      <td>-1.052068</td>\n",
       "      <td>-0.728460</td>\n",
       "      <td>-0.566919</td>\n",
       "      <td>-0.585596</td>\n",
       "      <td>-0.968539</td>\n",
       "      <td>-0.767941</td>\n",
       "      <td>-1.202319</td>\n",
       "      <td>0.268244</td>\n",
       "      <td>...</td>\n",
       "      <td>0.000000</td>\n",
       "      <td>0.000000</td>\n",
       "      <td>0.000000</td>\n",
       "      <td>0.000000</td>\n",
       "      <td>0.000000</td>\n",
       "      <td>1.000000</td>\n",
       "      <td>0.000000</td>\n",
       "      <td>1.000000</td>\n",
       "      <td>0.000000</td>\n",
       "      <td>1.000000</td>\n",
       "    </tr>\n",
       "    <tr>\n",
       "      <th>50%</th>\n",
       "      <td>-0.051055</td>\n",
       "      <td>-0.087437</td>\n",
       "      <td>0.701780</td>\n",
       "      <td>-0.728460</td>\n",
       "      <td>-0.566919</td>\n",
       "      <td>-0.585596</td>\n",
       "      <td>-0.126803</td>\n",
       "      <td>-0.188994</td>\n",
       "      <td>0.885468</td>\n",
       "      <td>0.268244</td>\n",
       "      <td>...</td>\n",
       "      <td>0.000000</td>\n",
       "      <td>0.000000</td>\n",
       "      <td>0.000000</td>\n",
       "      <td>0.000000</td>\n",
       "      <td>0.000000</td>\n",
       "      <td>1.000000</td>\n",
       "      <td>0.000000</td>\n",
       "      <td>1.000000</td>\n",
       "      <td>0.000000</td>\n",
       "      <td>1.000000</td>\n",
       "    </tr>\n",
       "    <tr>\n",
       "      <th>75%</th>\n",
       "      <td>0.464943</td>\n",
       "      <td>0.181740</td>\n",
       "      <td>0.701780</td>\n",
       "      <td>0.814627</td>\n",
       "      <td>0.351425</td>\n",
       "      <td>0.350011</td>\n",
       "      <td>0.594764</td>\n",
       "      <td>0.562842</td>\n",
       "      <td>0.885468</td>\n",
       "      <td>0.268244</td>\n",
       "      <td>...</td>\n",
       "      <td>0.000000</td>\n",
       "      <td>1.000000</td>\n",
       "      <td>0.000000</td>\n",
       "      <td>0.000000</td>\n",
       "      <td>0.000000</td>\n",
       "      <td>1.000000</td>\n",
       "      <td>0.000000</td>\n",
       "      <td>1.000000</td>\n",
       "      <td>0.000000</td>\n",
       "      <td>1.000000</td>\n",
       "    </tr>\n",
       "    <tr>\n",
       "      <th>max</th>\n",
       "      <td>11.441635</td>\n",
       "      <td>26.001899</td>\n",
       "      <td>0.701780</td>\n",
       "      <td>2.357715</td>\n",
       "      <td>8.378896</td>\n",
       "      <td>2.221226</td>\n",
       "      <td>11.419358</td>\n",
       "      <td>4.038801</td>\n",
       "      <td>0.885468</td>\n",
       "      <td>0.268244</td>\n",
       "      <td>...</td>\n",
       "      <td>1.000000</td>\n",
       "      <td>1.000000</td>\n",
       "      <td>1.000000</td>\n",
       "      <td>1.000000</td>\n",
       "      <td>1.000000</td>\n",
       "      <td>1.000000</td>\n",
       "      <td>1.000000</td>\n",
       "      <td>1.000000</td>\n",
       "      <td>1.000000</td>\n",
       "      <td>1.000000</td>\n",
       "    </tr>\n",
       "  </tbody>\n",
       "</table>\n",
       "<p>8 rows × 115 columns</p>\n",
       "</div>"
      ],
      "text/plain": [
       "       LotFrontage      LotArea     LotShape   MasVnrType   MasVnrArea  \\\n",
       "count  1460.000000  1460.000000  1460.000000  1460.000000  1460.000000   \n",
       "mean      0.028048     0.044214    -0.014175     0.012433     0.009623   \n",
       "std       1.033777     1.265534     1.021259     1.006253     1.010493   \n",
       "min      -2.255775    -1.124397    -4.559764    -0.728460    -0.566919   \n",
       "25%      -0.426327    -0.331509    -1.052068    -0.728460    -0.566919   \n",
       "50%      -0.051055    -0.087437     0.701780    -0.728460    -0.566919   \n",
       "75%       0.464943     0.181740     0.701780     0.814627     0.351425   \n",
       "max      11.441635    26.001899     0.701780     2.357715     8.378896   \n",
       "\n",
       "       BsmtExposure   BsmtFinSF1    BsmtUnfSF    HeatingQC   CentralAir  \\\n",
       "count   1460.000000  1460.000000  1460.000000  1460.000000  1460.000000   \n",
       "mean       0.005246     0.005197     0.015151    -0.006847     0.008301   \n",
       "std        0.997901     1.001080     1.005178     1.001617     0.985671   \n",
       "min       -1.521203    -0.968539    -1.275231    -3.290106    -3.726674   \n",
       "25%       -0.585596    -0.968539    -0.767941    -1.202319     0.268244   \n",
       "50%       -0.585596    -0.126803    -0.188994     0.885468     0.268244   \n",
       "75%        0.350011     0.594764     0.562842     0.885468     0.268244   \n",
       "max        2.221226    11.419358     4.038801     0.885468     0.268244   \n",
       "\n",
       "          ...       GarageTypeAttchd  GarageTypeBasment  GarageTypeBuiltIn  \\\n",
       "count     ...            1460.000000        1460.000000        1460.000000   \n",
       "mean      ...               0.060274           0.265068           0.055479   \n",
       "std       ...               0.238075           0.441521           0.228992   \n",
       "min       ...               0.000000           0.000000           0.000000   \n",
       "25%       ...               0.000000           0.000000           0.000000   \n",
       "50%       ...               0.000000           0.000000           0.000000   \n",
       "75%       ...               0.000000           1.000000           0.000000   \n",
       "max       ...               1.000000           1.000000           1.000000   \n",
       "\n",
       "       GarageTypeDetchd  GarageTypeNo Garage    FenceGdWo   FenceMnPrv  \\\n",
       "count       1460.000000          1460.000000  1460.000000  1460.000000   \n",
       "mean           0.036986             0.107534     0.807534     0.083562   \n",
       "std            0.188793             0.309897     0.394372     0.276824   \n",
       "min            0.000000             0.000000     0.000000     0.000000   \n",
       "25%            0.000000             0.000000     1.000000     0.000000   \n",
       "50%            0.000000             0.000000     1.000000     0.000000   \n",
       "75%            0.000000             0.000000     1.000000     0.000000   \n",
       "max            1.000000             1.000000     1.000000     1.000000   \n",
       "\n",
       "         FenceNone  SaleTypeNew   SaleTypeWD  \n",
       "count  1460.000000  1460.000000  1460.000000  \n",
       "mean      0.867808     0.013699     0.820548  \n",
       "std       0.338815     0.116277     0.383862  \n",
       "min       0.000000     0.000000     0.000000  \n",
       "25%       1.000000     0.000000     1.000000  \n",
       "50%       1.000000     0.000000     1.000000  \n",
       "75%       1.000000     0.000000     1.000000  \n",
       "max       1.000000     1.000000     1.000000  \n",
       "\n",
       "[8 rows x 115 columns]"
      ]
     },
     "execution_count": 76,
     "metadata": {},
     "output_type": "execute_result"
    }
   ],
   "source": [
    "data = pd.read_csv('train1.csv')\n",
    "data.describe()"
   ]
  },
  {
   "cell_type": "code",
   "execution_count": 77,
   "metadata": {},
   "outputs": [],
   "source": [
    "labels = np.array(data['SalePrice'])\n",
    "features = data.drop('SalePrice', axis = 1)\n",
    "feature_list = list(features.columns)\n",
    "features = np.array(features)"
   ]
  },
  {
   "cell_type": "code",
   "execution_count": 78,
   "metadata": {},
   "outputs": [],
   "source": [
    "train_features, test_features, train_labels, test_labels = train_test_split(features, \n",
    "                                                                            labels, test_size = 0.25, random_state = 42)"
   ]
  },
  {
   "cell_type": "code",
   "execution_count": 79,
   "metadata": {},
   "outputs": [
    {
     "name": "stdout",
     "output_type": "stream",
     "text": [
      "Training Features Shape: (1095, 114)\n",
      "Training Labels Shape: (1095,)\n",
      "Testing Features Shape: (365, 114)\n",
      "Testing Labels Shape: (365,)\n"
     ]
    }
   ],
   "source": [
    "print('Training Features Shape:', train_features.shape)\n",
    "print('Training Labels Shape:', train_labels.shape)\n",
    "print('Testing Features Shape:', test_features.shape)\n",
    "print('Testing Labels Shape:', test_labels.shape)"
   ]
  },
  {
   "cell_type": "code",
   "execution_count": 80,
   "metadata": {},
   "outputs": [],
   "source": [
    "rf = RandomForestRegressor(n_estimators = 1000, random_state = 42)"
   ]
  },
  {
   "cell_type": "code",
   "execution_count": 81,
   "metadata": {},
   "outputs": [
    {
     "data": {
      "text/plain": [
       "RandomForestRegressor(bootstrap=True, criterion='mse', max_depth=None,\n",
       "           max_features='auto', max_leaf_nodes=None,\n",
       "           min_impurity_decrease=0.0, min_impurity_split=None,\n",
       "           min_samples_leaf=1, min_samples_split=2,\n",
       "           min_weight_fraction_leaf=0.0, n_estimators=1000, n_jobs=1,\n",
       "           oob_score=False, random_state=42, verbose=0, warm_start=False)"
      ]
     },
     "execution_count": 81,
     "metadata": {},
     "output_type": "execute_result"
    }
   ],
   "source": [
    "rf.fit(train_features, train_labels)"
   ]
  },
  {
   "cell_type": "code",
   "execution_count": 82,
   "metadata": {},
   "outputs": [],
   "source": [
    "predictions = rf.predict(test_features)"
   ]
  },
  {
   "cell_type": "code",
   "execution_count": 83,
   "metadata": {
    "collapsed": true
   },
   "outputs": [],
   "source": [
    "errors = abs(predictions - test_labels)"
   ]
  },
  {
   "cell_type": "code",
   "execution_count": 84,
   "metadata": {},
   "outputs": [
    {
     "name": "stdout",
     "output_type": "stream",
     "text": [
      "Mean Absolute Error: 0.09 degrees.\n"
     ]
    }
   ],
   "source": [
    "print('Mean Absolute Error:', round(np.mean(errors), 2), 'degrees.')"
   ]
  },
  {
   "cell_type": "code",
   "execution_count": 85,
   "metadata": {},
   "outputs": [
    {
     "name": "stdout",
     "output_type": "stream",
     "text": [
      "Accuracy: 99.21 %.\n"
     ]
    }
   ],
   "source": [
    "mape = 100 * (errors / test_labels)\n",
    "accuracy = 100 - np.mean(mape)\n",
    "print('Accuracy:', round(accuracy, 2), '%.')"
   ]
  },
  {
   "cell_type": "markdown",
   "metadata": {},
   "source": [
    "### Train Kaggle Test Set"
   ]
  },
  {
   "cell_type": "code",
   "execution_count": 86,
   "metadata": {
    "collapsed": true
   },
   "outputs": [],
   "source": [
    "test_features = pd.read_csv('test1.csv')\n",
    "test_features.describe()\n",
    "test_features = test_features.drop('SalePrice', axis = 1)"
   ]
  },
  {
   "cell_type": "code",
   "execution_count": 87,
   "metadata": {},
   "outputs": [
    {
     "data": {
      "text/plain": [
       "RandomForestRegressor(bootstrap=True, criterion='mse', max_depth=None,\n",
       "           max_features='auto', max_leaf_nodes=None,\n",
       "           min_impurity_decrease=0.0, min_impurity_split=None,\n",
       "           min_samples_leaf=1, min_samples_split=2,\n",
       "           min_weight_fraction_leaf=0.0, n_estimators=1000, n_jobs=1,\n",
       "           oob_score=False, random_state=42, verbose=0, warm_start=False)"
      ]
     },
     "execution_count": 87,
     "metadata": {},
     "output_type": "execute_result"
    }
   ],
   "source": [
    "# features & labels to build model\n",
    "rf_kaggle = RandomForestRegressor(n_estimators = 1000, random_state = 42)\n",
    "rf_kaggle.fit(features, labels)"
   ]
  },
  {
   "cell_type": "code",
   "execution_count": 88,
   "metadata": {
    "collapsed": true
   },
   "outputs": [],
   "source": [
    "kaggle_predictions = rf.predict(test_features)"
   ]
  },
  {
   "cell_type": "code",
   "execution_count": 92,
   "metadata": {},
   "outputs": [
    {
     "data": {
      "text/plain": [
       "1459"
      ]
     },
     "execution_count": 92,
     "metadata": {},
     "output_type": "execute_result"
    }
   ],
   "source": [
    "kaggle_predictions"
   ]
  },
  {
   "cell_type": "code",
   "execution_count": 94,
   "metadata": {},
   "outputs": [],
   "source": [
    "df_output = pd.DataFrame(kaggle_predictions)\n",
    "df_output.to_csv('random_forest_predictions.csv')"
   ]
  },
  {
   "cell_type": "code",
   "execution_count": null,
   "metadata": {
    "collapsed": true
   },
   "outputs": [],
   "source": []
  }
 ],
 "metadata": {
  "kernelspec": {
   "display_name": "Python 3",
   "language": "python",
   "name": "python3"
  },
  "language_info": {
   "codemirror_mode": {
    "name": "ipython",
    "version": 3
   },
   "file_extension": ".py",
   "mimetype": "text/x-python",
   "name": "python",
   "nbconvert_exporter": "python",
   "pygments_lexer": "ipython3",
   "version": "3.6.3"
  }
 },
 "nbformat": 4,
 "nbformat_minor": 2
}
